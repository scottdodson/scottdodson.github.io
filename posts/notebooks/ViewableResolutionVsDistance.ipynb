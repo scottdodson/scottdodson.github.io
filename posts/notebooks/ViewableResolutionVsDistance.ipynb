{
 "cells": [
  {
   "cell_type": "markdown",
   "id": "4185505e-d80c-47af-b958-32f068c90efa",
   "metadata": {},
   "source": [
    "# Investigation on viewing distance vs resolution   \n",
    "Prepared by: Scott Dodson   \n",
    "Last edit: May 13, 2025"
   ]
  },
  {
   "cell_type": "markdown",
   "id": "9985bce4-f83a-4808-8d39-e62d074d0b71",
   "metadata": {},
   "source": [
    "This workbook is the calculation to determine needed resolution for printing images vs a viewing distance.  \n",
    "I have not taken this investigation all the way to citing an academic source."
   ]
  },
  {
   "cell_type": "markdown",
   "id": "1a6c3ff2-732b-46a4-b6b7-e643621e4d04",
   "metadata": {},
   "source": [
    "First let's set what viewing distance we are examining. Starting with one foot. I am holding a photo closely."
   ]
  },
  {
   "cell_type": "code",
   "execution_count": 28,
   "id": "e85b7c9f-7a23-4a59-a94d-c6dfe8055d06",
   "metadata": {},
   "outputs": [],
   "source": [
    "\n",
    "distanceInches = 24\n"
   ]
  },
  {
   "cell_type": "markdown",
   "id": "2d2cec29-7ef7-4651-8c0c-dea05fbbe7c0",
   "metadata": {},
   "source": [
    "## Google"
   ]
  },
  {
   "cell_type": "markdown",
   "id": "e456d34e-48a2-4fa8-ba77-62f77ca5849b",
   "metadata": {},
   "source": [
    "Google search: https://fstoppers.com/originals/how-many-megapixels-do-you-need-print-billboard-220239. \n",
    "This provided an equation and breakdown. The equation was aparently derived from an arbitrary table."
   ]
  },
  {
   "cell_type": "code",
   "execution_count": 29,
   "id": "82dfa306-18b9-403e-90d5-e5ed0783f8bb",
   "metadata": {},
   "outputs": [
    {
     "name": "stdout",
     "output_type": "stream",
     "text": [
      "286.36884306987395\n"
     ]
    }
   ],
   "source": [
    "ppi = 2/(distanceInches * 0.000291)\n",
    "print(ppi)"
   ]
  },
  {
   "cell_type": "markdown",
   "id": "d91b7b01-fdaf-409e-8753-1dc1d53ac5e8",
   "metadata": {},
   "source": [
    "Arbitrary equations, when they work out, are convenient, \n",
    "but non understanding the variables and constants is problematic when one wants to understand what changes\n",
    "could impact a result.  \n",
    "I kept looking.   \n",
    "\n",
    "After seeing the following two entries, I suspect there was a simple doubling of the minimum resoution. After all, there are folks with vision better than 20/20. I supose there may also be a high percentage of people with a refined sense of resoultion working with images."
   ]
  },
  {
   "cell_type": "markdown",
   "id": "66f29e9f-951e-405e-9b6a-fcf23304d8fa",
   "metadata": {},
   "source": [
    "## Stack Exchange"
   ]
  },
  {
   "cell_type": "markdown",
   "id": "00703261-5508-42ad-965b-81fc0d7d5ce4",
   "metadata": {},
   "source": [
    "Another resource (Stack Exchange post: https://photo.stackexchange.com/questions/17835/how-to-calculate-viewing-distance-for-a-print-size) listed 0.000290888 radians as a constant for visual acuity angle in humans. This is listed as a minimum."
   ]
  },
  {
   "cell_type": "markdown",
   "id": "fe075d4f-74ce-4e4c-b95a-e74047aa6f86",
   "metadata": {},
   "source": [
    "Visual Acuity - https://en.wikipedia.org/wiki/Visual_acuity"
   ]
  },
  {
   "cell_type": "code",
   "execution_count": 30,
   "id": "b5e81139-a360-4bdc-af60-d89669597db1",
   "metadata": {},
   "outputs": [
    {
     "name": "stdout",
     "output_type": "stream",
     "text": [
      "143.23955052412512\n"
     ]
    }
   ],
   "source": [
    "from math import tan\n",
    "ppi = 1/(2 * distanceInches * tan(0.000290888/2))\n",
    "#ppi = 3438/distanceInInches\n",
    "print(ppi)"
   ]
  },
  {
   "cell_type": "markdown",
   "id": "b09592a2-1475-4a8a-8699-9bf826ed869a",
   "metadata": {},
   "source": [
    "## ChatGPT?"
   ]
  },
  {
   "cell_type": "markdown",
   "id": "bf8586e8-d3be-4eb3-b88c-410347b158c9",
   "metadata": {},
   "source": [
    "Props to the Open AI LLM. It provided the most susinct equation as well as defining variables.  \n",
    "> Prompt: show me an equation and supporting sources for determining pixels per inch needed given a viewing distance.\n",
    "> \n",
    "> Answer: To determine the Pixels Per Inch (PPI) needed for a display given a viewing distance, you can use the visual acuity of the human eye as a baseline — typically assumed to be 20/20 vision, which corresponds to resolving 1 arcminute (1/60 of a degree)."
   ]
  },
  {
   "cell_type": "markdown",
   "id": "21487c55-ef8f-461c-b116-0231f53373aa",
   "metadata": {},
   "source": [
    "commonly used formula:"
   ]
  },
  {
   "cell_type": "markdown",
   "id": "3ce3921b-e328-4a26-a6d9-d4edd628de39",
   "metadata": {},
   "source": [
    "$\\text{required PPI}=\\frac{3438}{\\text{Viewing distance in inches}}$"
   ]
  },
  {
   "cell_type": "markdown",
   "id": "6b80fa97-ce67-4497-80b5-07879b5080af",
   "metadata": {},
   "source": [
    "where:"
   ]
  },
  {
   "cell_type": "markdown",
   "id": "d30137c9-7eab-4d30-83f5-a1a1313c88ac",
   "metadata": {},
   "source": [
    "3483 derived from $\\frac{1}{tan(\\frac{1}{60}\\cdot \\frac{\\pi}{180})}$   \n",
    "Assumes viewer can resolve 1 arcminute (20/20 vision)  \n",
    "Viewing distance in inches. "
   ]
  },
  {
   "cell_type": "code",
   "execution_count": 31,
   "id": "94b79422-56ce-4b09-ba42-5897a70326fa",
   "metadata": {},
   "outputs": [
    {
     "name": "stdout",
     "output_type": "stream",
     "text": [
      "143.25\n"
     ]
    }
   ],
   "source": [
    "ppi = (3438/distanceInches)\n",
    "print(ppi)"
   ]
  },
  {
   "cell_type": "markdown",
   "id": "8eaf6d44-5a7b-43e0-be23-dafc969217ff",
   "metadata": {},
   "source": [
    "Sources:   \n",
    "*Apple's \"Retina Display\" Philosophy*  \n",
    "Apple defines Retina based on when pixels are no longer visible at typical viewing distances. This is tied to the same visual acuity assumptions.\n",
    "– https://www.apple.com/retina/   \n",
    "\n",
    "*Carlton Bale’s Home Theater Calculator*   \n",
    "Offers detailed PPI vs. distance charts and equations:\n",
    "– https://carltonbale.com/1080p-does-matter/   \n",
    "\n",
    "*Wikipedia - Pixels Per Inch*  \n",
    "Basic explanation of PPI and resolution needs by distance:\n",
    "– https://en.wikipedia.org/wiki/Pixel_density#Viewing_distance_and_PPI   \n",
    "\n",
    "*Raymond Soneira, DisplayMate*   \n",
    "Advanced technical discussions on display resolution and human vision:\n",
    "– http://www.displaymate.com/Smartphone_ShootOut_1.htm"
   ]
  },
  {
   "cell_type": "code",
   "execution_count": null,
   "id": "4393aba0-f164-40a9-82cc-633e4e5b8cc9",
   "metadata": {},
   "outputs": [],
   "source": []
  },
  {
   "cell_type": "code",
   "execution_count": null,
   "id": "d79ab39d-fb32-4df7-b161-ee3867d4624d",
   "metadata": {},
   "outputs": [],
   "source": []
  },
  {
   "cell_type": "code",
   "execution_count": null,
   "id": "211ad90f-856b-4a9b-9d64-f83e0dae4c59",
   "metadata": {},
   "outputs": [],
   "source": []
  }
 ],
 "metadata": {
  "kernelspec": {
   "display_name": "Python 3 (ipykernel)",
   "language": "python",
   "name": "python3"
  },
  "language_info": {
   "codemirror_mode": {
    "name": "ipython",
    "version": 3
   },
   "file_extension": ".py",
   "mimetype": "text/x-python",
   "name": "python",
   "nbconvert_exporter": "python",
   "pygments_lexer": "ipython3",
   "version": "3.11.11"
  }
 },
 "nbformat": 4,
 "nbformat_minor": 5
}

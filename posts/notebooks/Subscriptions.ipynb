{
 "cells": [
  {
   "cell_type": "markdown",
   "id": "906a57a4-6197-40aa-823f-7fa9b5bece46",
   "metadata": {},
   "source": [
    "# Subscriptions prototype notebook   \n",
    "Prepared by: Scott Dodson  \n",
    "Updated on: May 27, 2025  \n",
    "\n",
    "Skipping over UI development by using a notebook, Pandas, Matpltlib, and Seaborn.  \n",
    "Using this workbook should help identify the most relevant fields for a database schema"
   ]
  },
  {
   "cell_type": "code",
   "execution_count": 22,
   "id": "6ff0f029-f728-40c3-b038-7d015ef568e9",
   "metadata": {},
   "outputs": [],
   "source": [
    "import pandas as pd\n",
    "# pd.__version__"
   ]
  },
  {
   "cell_type": "code",
   "execution_count": 24,
   "id": "8b96f251-b85b-439d-bfb8-a32ad5f23f25",
   "metadata": {},
   "outputs": [
    {
     "data": {
      "text/html": [
       "<div>\n",
       "<style scoped>\n",
       "    .dataframe tbody tr th:only-of-type {\n",
       "        vertical-align: middle;\n",
       "    }\n",
       "\n",
       "    .dataframe tbody tr th {\n",
       "        vertical-align: top;\n",
       "    }\n",
       "\n",
       "    .dataframe thead th {\n",
       "        text-align: right;\n",
       "    }\n",
       "</style>\n",
       "<table border=\"1\" class=\"dataframe\">\n",
       "  <thead>\n",
       "    <tr style=\"text-align: right;\">\n",
       "      <th></th>\n",
       "      <th>company</th>\n",
       "      <th>subscription_cost</th>\n",
       "      <th>tax</th>\n",
       "      <th>yearly</th>\n",
       "      <th>monthly</th>\n",
       "      <th>start_date</th>\n",
       "      <th>renewal_date</th>\n",
       "    </tr>\n",
       "    <tr>\n",
       "      <th>product</th>\n",
       "      <th></th>\n",
       "      <th></th>\n",
       "      <th></th>\n",
       "      <th></th>\n",
       "      <th></th>\n",
       "      <th></th>\n",
       "      <th></th>\n",
       "    </tr>\n",
       "  </thead>\n",
       "  <tbody>\n",
       "    <tr>\n",
       "      <th>AppleTV</th>\n",
       "      <td>Apple</td>\n",
       "      <td>9.99</td>\n",
       "      <td>1.04</td>\n",
       "      <td>False</td>\n",
       "      <td>True</td>\n",
       "      <td>2025-05-01</td>\n",
       "      <td>2025-06-01</td>\n",
       "    </tr>\n",
       "    <tr>\n",
       "      <th>SomeYearly</th>\n",
       "      <td>AllYearLong</td>\n",
       "      <td>200.00</td>\n",
       "      <td>9.20</td>\n",
       "      <td>True</td>\n",
       "      <td>False</td>\n",
       "      <td>2024-06-01</td>\n",
       "      <td>2025-06-01</td>\n",
       "    </tr>\n",
       "  </tbody>\n",
       "</table>\n",
       "</div>"
      ],
      "text/plain": [
       "                company  subscription_cost   tax  yearly  monthly  start_date  \\\n",
       "product                                                                         \n",
       "AppleTV           Apple               9.99  1.04   False     True  2025-05-01   \n",
       "SomeYearly  AllYearLong             200.00  9.20    True    False  2024-06-01   \n",
       "\n",
       "           renewal_date  \n",
       "product                  \n",
       "AppleTV      2025-06-01  \n",
       "SomeYearly   2025-06-01  "
      ]
     },
     "execution_count": 24,
     "metadata": {},
     "output_type": "execute_result"
    }
   ],
   "source": [
    "import matplotlib.pyplot as plt\n",
    "import seaborn as sns\n",
    "df = pd.read_csv('subscriptions.csv', index_col='product')\n",
    "df"
   ]
  },
  {
   "cell_type": "code",
   "execution_count": 25,
   "id": "7a254971-eb44-4d6d-b668-54cef2c19735",
   "metadata": {},
   "outputs": [],
   "source": [
    "c_names = df.columns.tolist()\n",
    "# c_names"
   ]
  },
  {
   "cell_type": "markdown",
   "id": "d2e4cd15-36f1-412c-9980-ea62d4c15be0",
   "metadata": {},
   "source": [
    "### What subscriptions am I paying for this month (between today and the start of next month)?"
   ]
  },
  {
   "cell_type": "code",
   "execution_count": 26,
   "id": "e9486b47-22d3-421b-9954-151f403c0fe2",
   "metadata": {},
   "outputs": [],
   "source": [
    "from datetime import datetime\n",
    "from dateutil.relativedelta import *\n",
    "use_date = datetime.now()"
   ]
  },
  {
   "cell_type": "code",
   "execution_count": 27,
   "id": "2a285f7b-51c8-4208-a283-8b56df158208",
   "metadata": {},
   "outputs": [],
   "source": [
    "end_of_month = use_date+relativedelta(months=+1,day=1)"
   ]
  },
  {
   "cell_type": "code",
   "execution_count": 28,
   "id": "d5135a12-4b71-45fd-8a27-b536e18f7fae",
   "metadata": {},
   "outputs": [
    {
     "data": {
      "text/html": [
       "<div>\n",
       "<style scoped>\n",
       "    .dataframe tbody tr th:only-of-type {\n",
       "        vertical-align: middle;\n",
       "    }\n",
       "\n",
       "    .dataframe tbody tr th {\n",
       "        vertical-align: top;\n",
       "    }\n",
       "\n",
       "    .dataframe thead th {\n",
       "        text-align: right;\n",
       "    }\n",
       "</style>\n",
       "<table border=\"1\" class=\"dataframe\">\n",
       "  <thead>\n",
       "    <tr style=\"text-align: right;\">\n",
       "      <th></th>\n",
       "      <th>company</th>\n",
       "      <th>subscription_cost</th>\n",
       "      <th>tax</th>\n",
       "      <th>yearly</th>\n",
       "      <th>monthly</th>\n",
       "      <th>start_date</th>\n",
       "      <th>renewal_date</th>\n",
       "    </tr>\n",
       "    <tr>\n",
       "      <th>product</th>\n",
       "      <th></th>\n",
       "      <th></th>\n",
       "      <th></th>\n",
       "      <th></th>\n",
       "      <th></th>\n",
       "      <th></th>\n",
       "      <th></th>\n",
       "    </tr>\n",
       "  </thead>\n",
       "  <tbody>\n",
       "    <tr>\n",
       "      <th>AppleTV</th>\n",
       "      <td>Apple</td>\n",
       "      <td>9.99</td>\n",
       "      <td>1.04</td>\n",
       "      <td>False</td>\n",
       "      <td>True</td>\n",
       "      <td>2025-05-01</td>\n",
       "      <td>2025-06-01</td>\n",
       "    </tr>\n",
       "    <tr>\n",
       "      <th>SomeYearly</th>\n",
       "      <td>AllYearLong</td>\n",
       "      <td>200.00</td>\n",
       "      <td>9.20</td>\n",
       "      <td>True</td>\n",
       "      <td>False</td>\n",
       "      <td>2024-06-01</td>\n",
       "      <td>2025-06-01</td>\n",
       "    </tr>\n",
       "  </tbody>\n",
       "</table>\n",
       "</div>"
      ],
      "text/plain": [
       "                company  subscription_cost   tax  yearly  monthly  start_date  \\\n",
       "product                                                                         \n",
       "AppleTV           Apple               9.99  1.04   False     True  2025-05-01   \n",
       "SomeYearly  AllYearLong             200.00  9.20    True    False  2024-06-01   \n",
       "\n",
       "           renewal_date  \n",
       "product                  \n",
       "AppleTV      2025-06-01  \n",
       "SomeYearly   2025-06-01  "
      ]
     },
     "execution_count": 28,
     "metadata": {},
     "output_type": "execute_result"
    }
   ],
   "source": [
    "df[df.renewal_date.between(datetime.today().strftime('%Y-%m-%d'), end_of_month.strftime('%Y-%m-%d'))]"
   ]
  },
  {
   "cell_type": "markdown",
   "id": "65c46a17-8abf-49e7-97f5-ca1117d97f55",
   "metadata": {},
   "source": [
    "### Total yearly cost"
   ]
  },
  {
   "cell_type": "code",
   "execution_count": 29,
   "id": "5277bd56-e8a0-49a6-af5b-9076707d92dc",
   "metadata": {},
   "outputs": [],
   "source": [
    "monthly_to_year = df.loc[df['monthly'] == True, 'subscription_cost'].sum() * 12"
   ]
  },
  {
   "cell_type": "code",
   "execution_count": 30,
   "id": "61d5a7fa-3190-412a-ab5a-a69423bfb2b1",
   "metadata": {},
   "outputs": [],
   "source": [
    "yearly_sum = df.loc[df['yearly'] == True, 'subscription_cost'].sum()"
   ]
  },
  {
   "cell_type": "code",
   "execution_count": 31,
   "id": "336d5d83-e473-4161-8d52-04c39f3c444f",
   "metadata": {},
   "outputs": [
    {
     "name": "stdout",
     "output_type": "stream",
     "text": [
      "Total Yearly cost: $319.88\n"
     ]
    }
   ],
   "source": [
    "yearly_total = monthly_to_year + yearly_sum\n",
    "print(\"Total Yearly cost: ${:.2f}\".format(yearly_total))"
   ]
  },
  {
   "cell_type": "markdown",
   "id": "1ee8f4ae-a669-45ba-a3e1-7a40ec3a3747",
   "metadata": {},
   "source": [
    "### Yearly by company"
   ]
  },
  {
   "cell_type": "code",
   "execution_count": 33,
   "id": "71398407-06af-43a6-9d63-6a756be0cd08",
   "metadata": {},
   "outputs": [],
   "source": [
    "# what if yearly des not exist?\n",
    "\n",
    "\n",
    "adj_yearly_cost = df['adjusted_yearly_cost'] = df.apply(lambda x: x['subscription_cost'] * 12 if x['monthly'] else x['subscription_cost'], axis=1)\n",
    "total_yearly_by_company = df.groupby('company')['adjusted_yearly_cost'].sum()\n",
    "# adj_yearly_cost"
   ]
  },
  {
   "cell_type": "code",
   "execution_count": 34,
   "id": "642b1a91-3d5a-4015-8742-a3e7712cffe6",
   "metadata": {},
   "outputs": [
    {
     "data": {
      "image/png": "[encoded data removed]",
      "text/plain": [
       "<Figure size 800x400 with 1 Axes>"
      ]
     },
     "metadata": {},
     "output_type": "display_data"
    }
   ],
   "source": [
    "# Optional: Set a nicer style\n",
    "sns.set(style='whitegrid')\n",
    "\n",
    "# Sort data\n",
    "sorted_data = total_yearly_by_company.sort_values(ascending=False)\n",
    "\n",
    "# Create the plot\n",
    "plt.figure(figsize=(8, 4))  # More compact size\n",
    "sns.barplot(x=sorted_data.values, y=sorted_data.index, hue=sorted_data.index, legend=False)\n",
    "\n",
    "# Add labels and title\n",
    "plt.title('Total Yearly Subscription Cost by Company', fontsize=14)\n",
    "plt.xlabel('Total Yearly Cost ($)')\n",
    "plt.ylabel('Company')\n",
    "plt.tight_layout()\n",
    "\n",
    "plt.show()\n"
   ]
  },
  {
   "cell_type": "code",
   "execution_count": null,
   "id": "fae1c70a-cb64-4082-bdc7-2c0c67c21364",
   "metadata": {},
   "outputs": [],
   "source": []
  }
 ],
 "metadata": {
  "kernelspec": {
   "display_name": "Python 3 (ipykernel)",
   "language": "python",
   "name": "python3"
  },
  "language_info": {
   "codemirror_mode": {
    "name": "ipython",
    "version": 3
   },
   "file_extension": ".py",
   "mimetype": "text/x-python",
   "name": "python",
   "nbconvert_exporter": "python",
   "pygments_lexer": "ipython3",
   "version": "3.11.11"
  }
 },
 "nbformat": 4,
 "nbformat_minor": 5
}
